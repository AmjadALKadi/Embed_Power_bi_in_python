{
  "nbformat": 4,
  "nbformat_minor": 0,
  "metadata": {
    "colab": {
      "name": "Embad Power bi in python.ipynb",
      "provenance": []
    },
    "kernelspec": {
      "name": "python3",
      "display_name": "Python 3"
    },
    "language_info": {
      "name": "python"
    }
  },
  "cells": [
    {
      "cell_type": "code",
      "execution_count": null,
      "metadata": {
        "id": "45_l78MYG1D5"
      },
      "outputs": [],
      "source": [
        ""
      ]
    },
    {
      "cell_type": "markdown",
      "source": [
        "# Embed Power BI Reprt IN PYHTON "
      ],
      "metadata": {
        "id": "KuNxAVquHC-A"
      }
    },
    {
      "cell_type": "markdown",
      "source": [
        "#### First we have impoer the library that we work with it its name \"IPython.display\"\n",
        "####then we need package \"IFrame\"\n",
        "####\"IPython.Display\"ضمن ملف العمل وهي  POWER BI نحتاج الى تحميل المكتبة التي ستساعدنا للعمل وادراج تقرير \n",
        "####\"IFrame\"ايضا نحتاج الباكج الذي سوف نتعامل معه و هو "
      ],
      "metadata": {
        "id": "IVEy6tLuIUM7"
      }
    },
    {
      "cell_type": "code",
      "source": [
        "from IPython.display import IFrame"
      ],
      "metadata": {
        "id": "37IM7jX4HVWs"
      },
      "execution_count": 3,
      "outputs": []
    },
    {
      "cell_type": "markdown",
      "source": [
        "#### ادراج التقرير\n",
        "fro embad the power bi report in pyhton we need difine the var that has the link of the report that we get it from power bi service\n",
        "python من اجل ادارج التقرير ضمن \n",
        "نحتاج الى تعريف متغيير يحوي على رابط النشر الخاص بالتقرير والذي تيم الحصول عليه من power bi service "
      ],
      "metadata": {
        "id": "NcGAGiowImUz"
      }
    },
    {
      "cell_type": "code",
      "source": [
        "power_rep =\"https://app.powerbi.com/view?r=eyJrIjoiMGE4NTJkM2EtMTU5Mi00MzVjLTg5M2UtZWRiZTU4YmZmMDJkIiwidCI6IjQ1NmFiNzczLWZlNjgtNDQyOS1hZjAxLWVjNzI3MGRmYmZkZSIsImMiOjl9&pageName=ReportSection1f6939da4018e78a07c2\""
      ],
      "metadata": {
        "id": "3vMIeh1ZJUIm"
      },
      "execution_count": 4,
      "outputs": []
    },
    {
      "cell_type": "markdown",
      "source": [
        "# show the report / عرض التقرير\n",
        "For show the report we need the function \"IFrame \"\n",
        "IFrame (link(power_rep) , width = , height = )\n",
        " شكلها \"IFrame\"من اجل عرض التقرير نحتاج استدعاء وظيفة وهي \n",
        "IFrame (link(power_rep) , width = , height = )"
      ],
      "metadata": {
        "id": "mQiPyHOMJcW6"
      }
    },
    {
      "cell_type": "code",
      "source": [
        "IFrame(power_rep ,width = 1000 , height = 800)"
      ],
      "metadata": {
        "colab": {
          "base_uri": "https://localhost:8080/",
          "height": 821
        },
        "id": "728AuFzdI69r",
        "outputId": "b8bbe761-b16a-42ac-c1de-67fb50b88230"
      },
      "execution_count": 5,
      "outputs": [
        {
          "output_type": "execute_result",
          "data": {
            "text/html": [
              "\n",
              "        <iframe\n",
              "            width=\"1000\"\n",
              "            height=\"800\"\n",
              "            src=\"https://app.powerbi.com/view?r=eyJrIjoiMGE4NTJkM2EtMTU5Mi00MzVjLTg5M2UtZWRiZTU4YmZmMDJkIiwidCI6IjQ1NmFiNzczLWZlNjgtNDQyOS1hZjAxLWVjNzI3MGRmYmZkZSIsImMiOjl9&pageName=ReportSection1f6939da4018e78a07c2\"\n",
              "            frameborder=\"0\"\n",
              "            allowfullscreen\n",
              "        ></iframe>\n",
              "        "
            ],
            "text/plain": [
              "<IPython.lib.display.IFrame at 0x7f391297c850>"
            ]
          },
          "metadata": {},
          "execution_count": 5
        }
      ]
    },
    {
      "cell_type": "markdown",
      "source": [
        ""
      ],
      "metadata": {
        "id": "yCHWQrOjIW2p"
      }
    }
  ]
}